{
 "cells": [
  {
   "cell_type": "code",
   "execution_count": 3,
   "id": "4da61c1d",
   "metadata": {},
   "outputs": [
    {
     "name": "stdout",
     "output_type": "stream",
     "text": [
      "Twinkle, twinkle, little star,\n",
      "\tHow I wonder what you are!\n",
      "\t\tUp above the world so high,\n",
      "\t\tLike a diamond in the sky.\n",
      "Twinkle, twinkle, little star,\n",
      "\tHow I wonder what you are\n"
     ]
    }
   ],
   "source": [
    "print(\"Twinkle, twinkle, little star,\")\n",
    "print(\"\\tHow I wonder what you are!\")\n",
    "print(\"\\t\\tUp above the world so high,\")\n",
    "print(\"\\t\\tLike a diamond in the sky.\")\n",
    "print(\"Twinkle, twinkle, little star,\")\n",
    "print(\"\\tHow I wonder what you are\")"
   ]
  },
  {
   "cell_type": "code",
   "execution_count": 6,
   "id": "862c791d",
   "metadata": {},
   "outputs": [
    {
     "name": "stdout",
     "output_type": "stream",
     "text": [
      "Python version: 3.8.8 (default, Apr 13 2021, 15:08:03) [MSC v.1916 64 bit (AMD64)]\n"
     ]
    }
   ],
   "source": [
    "import sys\n",
    "print(\"Python version: \"+sys.version)"
   ]
  },
  {
   "cell_type": "code",
   "execution_count": 16,
   "id": "fbe23c2e",
   "metadata": {},
   "outputs": [
    {
     "name": "stdout",
     "output_type": "stream",
     "text": [
      "Date: 24/10/2021\n",
      "Time: 10:13:11\n"
     ]
    }
   ],
   "source": [
    "from datetime import datetime\n",
    "now = datetime.now()\n",
    "print(\"Date: \"+now.strftime(\"%d/%m/%Y\"))\n",
    "print(\"Time: \"+now.strftime(\"%H:%M:%S\"))\n"
   ]
  },
  {
   "cell_type": "code",
   "execution_count": 30,
   "id": "214fcc5a",
   "metadata": {},
   "outputs": [
    {
     "name": "stdout",
     "output_type": "stream",
     "text": [
      "Radius of the circle: 60\n",
      "Area =11309.73\n"
     ]
    }
   ],
   "source": [
    "import math\n",
    "\n",
    "RAD=float(input(\"Radius of the circle: \"))\n",
    "AREA=math.pi*(RAD**2)\n",
    "print(\"Area =%.2f\" %AREA)"
   ]
  },
  {
   "cell_type": "code",
   "execution_count": 31,
   "id": "929d79b8",
   "metadata": {},
   "outputs": [
    {
     "name": "stdout",
     "output_type": "stream",
     "text": [
      "Enter your first name: Rao\n",
      "Enter your last name: Umar\n",
      "Umar Rao\n"
     ]
    }
   ],
   "source": [
    "firstName=input(\"Enter your first name: \")\n",
    "lastName=input(\"Enter your last name: \")\n",
    "\n",
    "print(lastName+\" \"+firstName)"
   ]
  },
  {
   "cell_type": "code",
   "execution_count": 34,
   "id": "9c349d09",
   "metadata": {},
   "outputs": [
    {
     "name": "stdout",
     "output_type": "stream",
     "text": [
      "Enter first number: 60\n",
      "Enter second number:40\n",
      "Sum: \n",
      "100\n"
     ]
    }
   ],
   "source": [
    "num1=int(input(\"Enter first number: \"))\n",
    "num2=int(input(\"Enter second number:\"))\n",
    "\n",
    "print(\"Sum: \")\n",
    "print(num1+num2)"
   ]
  },
  {
   "cell_type": "markdown",
   "id": "e1d08b5d",
   "metadata": {},
   "source": [
    "# "
   ]
  },
  {
   "cell_type": "code",
   "execution_count": 66,
   "id": "8a26494c",
   "metadata": {},
   "outputs": [
    {
     "name": "stdout",
     "output_type": "stream",
     "text": [
      "Enter marks of subject 1: 54\n",
      "Enter marks of subject 2: 65\n",
      "Enter marks of subject 3: 76\n",
      "Enter marks of subject 4: 87\n",
      "Enter marks of subject 5: 98\n",
      "Subjects\tGrade\n",
      "Maths\t\tC+\n",
      "Eng\t\tB\n",
      "Urdu\t\tB+\n",
      "Science\t\tA\n",
      "PST\t\tA+\n",
      "Total Marks: \t500\n",
      "Obtained: \t380\n"
     ]
    }
   ],
   "source": [
    "score=[]\n",
    "sub=[\"Maths\",\"Eng\",\"Urdu\",\"Science\",\"PST\"]\n",
    "\n",
    "def grade(num):\n",
    "    if num>=91 and num<=100:\n",
    "        return \"A+\"\n",
    "    elif num>=81 and num<91:\n",
    "        return \"A\"\n",
    "    elif num>=71 and num<81:\n",
    "        return \"B+\"\n",
    "    elif num>=61 and num<71:\n",
    "        return \"B\"\n",
    "    elif num>=51 and num<61:\n",
    "        return \"C+\"\n",
    "    elif num>=41 and num<51:\n",
    "        return \"C\"\n",
    "    elif num>=0 and num<41:\n",
    "        return \"F\"\n",
    "    else:\n",
    "        return \"Invalid score\"\n",
    "\n",
    "total=0\n",
    "for i in range(0, 5):\n",
    "    num= int(input(\"Enter marks of subject \"+str(i+1)+\": \"))\n",
    "    score.append(num)\n",
    "    total+=num\n",
    "    \n",
    "print(\"Subjects\"+\"\\t\"+\"Grade\")\n",
    "for i in range(0, 5):\n",
    "    print(str(sub[i])+\"\\t\\t\"+grade(score[i]))\n",
    "    \n",
    "print(\"Total Marks: \"+\"\\t\"+\"500\")\n",
    "print(\"Obtained: \"+\"\\t\"+str(total))"
   ]
  },
  {
   "cell_type": "code",
   "execution_count": 70,
   "id": "584f82ff",
   "metadata": {},
   "outputs": [
    {
     "name": "stdout",
     "output_type": "stream",
     "text": [
      "Enter any number: 1024\n",
      "1024 is even\n"
     ]
    }
   ],
   "source": [
    "num=int(input(\"Enter any number: \"))\n",
    "\n",
    "if(num%2!=0):\n",
    "    print(str(num)+\" is odd\")\n",
    "else:\n",
    "    print(str(num)+\" is even\")"
   ]
  },
  {
   "cell_type": "code",
   "execution_count": 74,
   "id": "50f297ac",
   "metadata": {},
   "outputs": [
    {
     "name": "stdout",
     "output_type": "stream",
     "text": [
      "5\n"
     ]
    }
   ],
   "source": [
    "LIST=[\"FST\",\"MSIM\",\"DSAA\",\"MIT\",\"DBMS\"]\n",
    "print(len(LIST))"
   ]
  },
  {
   "cell_type": "code",
   "execution_count": 77,
   "id": "d04c0453",
   "metadata": {},
   "outputs": [
    {
     "name": "stdout",
     "output_type": "stream",
     "text": [
      "Sum of all elements in the list: 165\n"
     ]
    }
   ],
   "source": [
    "NUM=[0,11,22,33,44,55]\n",
    "SUM=0\n",
    "for i in range(0, len(NUM)):\n",
    "    SUM+=NUM[i]\n",
    "print(\"Sum of all elements in the list: \"+str(SUM))"
   ]
  },
  {
   "cell_type": "code",
   "execution_count": 83,
   "id": "12a5ce25",
   "metadata": {},
   "outputs": [
    {
     "name": "stdout",
     "output_type": "stream",
     "text": [
      "Largest number of the list:  99\n"
     ]
    }
   ],
   "source": [
    "NUM=[99,11,22,33,44,55]\n",
    "print(\"Largest number of the list: \",max(NUM))"
   ]
  },
  {
   "cell_type": "code",
   "execution_count": 84,
   "id": "ba04380f",
   "metadata": {},
   "outputs": [
    {
     "name": "stdout",
     "output_type": "stream",
     "text": [
      "1\n",
      "1\n",
      "2\n",
      "3\n"
     ]
    }
   ],
   "source": [
    "a = [1, 1, 2, 3, 5, 8, 13, 21, 34, 55, 89]\n",
    "for i in a:\n",
    "    if i < 5:\n",
    "        print(i)"
   ]
  },
  {
   "cell_type": "code",
   "execution_count": null,
   "id": "378134b9",
   "metadata": {},
   "outputs": [],
   "source": []
  }
 ],
 "metadata": {
  "kernelspec": {
   "display_name": "Python 3",
   "language": "python",
   "name": "python3"
  }
 },
 "nbformat": 4,
 "nbformat_minor": 5
}
