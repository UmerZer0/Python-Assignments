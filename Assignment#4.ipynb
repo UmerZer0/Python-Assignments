{
 "cells": [
  {
   "cell_type": "code",
   "execution_count": 3,
   "id": "897603a5",
   "metadata": {},
   "outputs": [
    {
     "name": "stdout",
     "output_type": "stream",
     "text": [
      "Enter first number: 42\n",
      "Select Operator \n",
      "1. +\n",
      "2. -\n",
      "3. *\n",
      "4. /\n",
      "5. ^*\n",
      "Enter second number: 2\n",
      "42.0   *   2.0  =  84.0\n",
      "Exit?! (y/n)\n",
      "n\n",
      "Enter first number: 10\n",
      "Select Operator \n",
      "1. +\n",
      "2. -\n",
      "3. *\n",
      "4. /\n",
      "5. ^^\n",
      "Enter second number: 3\n",
      "10.0   ^   3.0  =  1000.0\n",
      "Exit?! (y/n)\n",
      "y\n"
     ]
    }
   ],
   "source": [
    "#Make a calculator using Python with addition , subtraction ,multiplication ,division and power.\n",
    "\n",
    "def add(a,b):\n",
    "    return a+b\n",
    "\n",
    "def sub(a,b):\n",
    "    return a-b\n",
    "\n",
    "def prod(a,b):\n",
    "    return a*b\n",
    "\n",
    "def div(a,b):\n",
    "    return a/b\n",
    "    \n",
    "def power(a,b):\n",
    "    return pow(a,b)\n",
    "\n",
    "while True: \n",
    "    num1 = float(input(\"Enter first number: \"))\n",
    "    opr = input(\"Select Operator \\n1. +\\n2. -\\n3. *\\n4. /\\n5. ^\")\n",
    "    num2 = float(input(\"Enter second number: \"))\n",
    "\n",
    "    if opr=='+':\n",
    "        c=add(num1,num2)\n",
    "    elif opr=='-':\n",
    "        c=sub(num1,num2)\n",
    "    elif opr=='*':\n",
    "        c=prod(num1,num2)\n",
    "    elif opr=='/':\n",
    "        c=div(num1,num2)\n",
    "    elif opr=='^':\n",
    "        c=power(num1,num2)\n",
    "    else:\n",
    "        print(\"Invalid operator\")\n",
    "\n",
    "    print(num1,\" \", opr, \" \", num2, \" = \", c)\n",
    "    print(\"Exit?! (y/n)\")\n",
    "    ext=input()\n",
    "    if ext=='y' or ext=='Y':\n",
    "        break\n",
    "            "
   ]
  },
  {
   "cell_type": "code",
   "execution_count": 6,
   "id": "203cf3cc",
   "metadata": {},
   "outputs": [
    {
     "name": "stdout",
     "output_type": "stream",
     "text": [
      "10  is a numeric value\n"
     ]
    }
   ],
   "source": [
    "#Write a program to check if there is any numeric value in list using for loop.\n",
    "\n",
    "List=[\"YouTube\", 10, 'X']\n",
    "for i in List:\n",
    "    if type(i) == int:\n",
    "        print(i,\" is a numeric value\")"
   ]
  },
  {
   "cell_type": "code",
   "execution_count": 10,
   "id": "f81c6624",
   "metadata": {},
   "outputs": [
    {
     "name": "stdout",
     "output_type": "stream",
     "text": [
      "Disctionary before insertion\n",
      "0 A\n",
      "1 B\n",
      "2 C\n",
      "Disctionary after insertion\n",
      "0 A\n",
      "1 B\n",
      "2 C\n",
      "4 E\n",
      "5 F\n"
     ]
    }
   ],
   "source": [
    "# Write a Python script to add a key to a dictionary.\n",
    "\n",
    "dict={0:'A',1:'B',2:'C'}\n",
    "\n",
    "print(\"Disctionary before insertion\")\n",
    "for k,v in dict.items():\n",
    "    print(k,v)\n",
    "\n",
    "dict[4]='E'\n",
    "dict[5]='F'\n",
    "    \n",
    "print(\"Disctionary after insertion\")\n",
    "for k,v in dict.items():\n",
    "    print(k,v)\n",
    "    "
   ]
  },
  {
   "cell_type": "code",
   "execution_count": 16,
   "id": "5cbf8328",
   "metadata": {},
   "outputs": [
    {
     "name": "stdout",
     "output_type": "stream",
     "text": [
      "sum =  30\n"
     ]
    }
   ],
   "source": [
    "#Write a Python program to sum all the numeric items in a dictionary.\n",
    "\n",
    "dict={0:'A' , 1:10, 2:'B', 3:20}\n",
    "sum=0\n",
    "for i in dict.values():\n",
    "    if type(i) == int:\n",
    "        sum+=i\n",
    "print(\"sum = \",sum)"
   ]
  },
  {
   "cell_type": "code",
   "execution_count": 26,
   "id": "04c63ff8",
   "metadata": {},
   "outputs": [
    {
     "name": "stdout",
     "output_type": "stream",
     "text": [
      "7 is the duplicate value\n"
     ]
    }
   ],
   "source": [
    "#Write a program to identify duplicate values from list.\n",
    "\n",
    "listA=[1,2,3,4,5,6,7,7,9,0]\n",
    "for i in range(0, len(listA)):\n",
    "    for j in range(i+1, len(listA)):\n",
    "        if(listA[i]==listA[j]):\n",
    "            print(listA[j], \"is the duplicate value\")"
   ]
  },
  {
   "cell_type": "code",
   "execution_count": 29,
   "id": "19104cfb",
   "metadata": {},
   "outputs": [
    {
     "name": "stdout",
     "output_type": "stream",
     "text": [
      "5  is present in the dictionary\n"
     ]
    }
   ],
   "source": [
    "#Write a Python script to check if a given key already exists in a dictionary\n",
    "\n",
    "d = {1: 10, 2: 20, 3: 30, 4: 40, 5: 50, 6: 60}\n",
    "def Check(x):\n",
    "  if x in d:\n",
    "      print(x,\" is present in the dictionary\")\n",
    "  else:\n",
    "      print(\"Key is not present in the dictionary\")\n",
    "Check(5)"
   ]
  },
  {
   "cell_type": "code",
   "execution_count": null,
   "id": "454b8bd6",
   "metadata": {},
   "outputs": [],
   "source": []
  }
 ],
 "metadata": {
  "kernelspec": {
   "display_name": "Python 3",
   "language": "python",
   "name": "python3"
  },
  "language_info": {
   "codemirror_mode": {
    "name": "ipython",
    "version": 3
   },
   "file_extension": ".py",
   "mimetype": "text/x-python",
   "name": "python",
   "nbconvert_exporter": "python",
   "pygments_lexer": "ipython3",
   "version": "3.8.8"
  }
 },
 "nbformat": 4,
 "nbformat_minor": 5
}
